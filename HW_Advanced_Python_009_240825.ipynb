{
 "cells": [
  {
   "cell_type": "code",
   "execution_count": 1,
   "id": "a0aa5f0c",
   "metadata": {},
   "outputs": [
    {
     "name": "stdout",
     "output_type": "stream",
     "text": [
      "Collecting numpy\n",
      "  Downloading numpy-1.21.6-cp37-cp37m-win_amd64.whl.metadata (2.2 kB)\n",
      "Downloading numpy-1.21.6-cp37-cp37m-win_amd64.whl (14.0 MB)\n",
      "   ---------------------------------------- 14.0/14.0 MB 23.4 MB/s eta 0:00:00\n",
      "Installing collected packages: numpy\n",
      "Successfully installed numpy-1.21.6\n"
     ]
    }
   ],
   "source": [
    "!pip install numpy"
   ]
  },
  {
   "cell_type": "code",
   "execution_count": 2,
   "id": "0c821459",
   "metadata": {},
   "outputs": [],
   "source": [
    "import numpy as np"
   ]
  },
  {
   "cell_type": "code",
   "execution_count": 6,
   "id": "9fc0bd81",
   "metadata": {},
   "outputs": [],
   "source": [
    "x = np.array([3,1,2])"
   ]
  },
  {
   "cell_type": "code",
   "execution_count": 7,
   "id": "3de429eb",
   "metadata": {},
   "outputs": [
    {
     "data": {
      "text/plain": [
       "array([1, 2, 0], dtype=int64)"
      ]
     },
     "execution_count": 7,
     "metadata": {},
     "output_type": "execute_result"
    }
   ],
   "source": [
    "np.argsort(x)"
   ]
  },
  {
   "cell_type": "code",
   "execution_count": 12,
   "id": "b4b092e6",
   "metadata": {},
   "outputs": [],
   "source": [
    "x = np.array([[0,3], [2,2]])"
   ]
  },
  {
   "cell_type": "code",
   "execution_count": 13,
   "id": "9a301775",
   "metadata": {},
   "outputs": [
    {
     "data": {
      "text/plain": [
       "array([[0, 3],\n",
       "       [2, 2]])"
      ]
     },
     "execution_count": 13,
     "metadata": {},
     "output_type": "execute_result"
    }
   ],
   "source": [
    "x"
   ]
  },
  {
   "cell_type": "code",
   "execution_count": 14,
   "id": "2fedda75",
   "metadata": {},
   "outputs": [],
   "source": [
    "ind = np.argsort(x, axis=0) # sorts along first axis (down)"
   ]
  },
  {
   "cell_type": "code",
   "execution_count": 15,
   "id": "8a0ef4d8",
   "metadata": {},
   "outputs": [
    {
     "data": {
      "text/plain": [
       "array([[0, 1],\n",
       "       [1, 0]], dtype=int64)"
      ]
     },
     "execution_count": 15,
     "metadata": {},
     "output_type": "execute_result"
    }
   ],
   "source": [
    "ind"
   ]
  },
  {
   "cell_type": "code",
   "execution_count": 16,
   "id": "ada06964",
   "metadata": {},
   "outputs": [
    {
     "data": {
      "text/plain": [
       "array([[0, 2],\n",
       "       [2, 3]])"
      ]
     },
     "execution_count": 16,
     "metadata": {},
     "output_type": "execute_result"
    }
   ],
   "source": [
    "np.take_along_axis(x, ind, axis=0) #same"
   ]
  },
  {
   "cell_type": "code",
   "execution_count": 17,
   "id": "88597737",
   "metadata": {},
   "outputs": [],
   "source": [
    "ind = np.argsort(x, axis=1) # sorts along last axis (across)"
   ]
  },
  {
   "cell_type": "code",
   "execution_count": 18,
   "id": "369dc362",
   "metadata": {},
   "outputs": [
    {
     "data": {
      "text/plain": [
       "array([[0, 1],\n",
       "       [0, 1]], dtype=int64)"
      ]
     },
     "execution_count": 18,
     "metadata": {},
     "output_type": "execute_result"
    }
   ],
   "source": [
    "ind"
   ]
  },
  {
   "cell_type": "code",
   "execution_count": 19,
   "id": "80d01a4b",
   "metadata": {},
   "outputs": [
    {
     "data": {
      "text/plain": [
       "array([[0, 3],\n",
       "       [2, 2]])"
      ]
     },
     "execution_count": 19,
     "metadata": {},
     "output_type": "execute_result"
    }
   ],
   "source": [
    "np.take_along_axis(x,ind,axis=1) #same"
   ]
  },
  {
   "cell_type": "code",
   "execution_count": 20,
   "id": "e7a0a516",
   "metadata": {},
   "outputs": [],
   "source": [
    "ind = np.unravel_index(np.argsort(x, axis=None), x.shape)"
   ]
  },
  {
   "cell_type": "code",
   "execution_count": 21,
   "id": "e7d94ea9",
   "metadata": {},
   "outputs": [
    {
     "data": {
      "text/plain": [
       "(array([0, 1, 1, 0], dtype=int64), array([0, 0, 1, 1], dtype=int64))"
      ]
     },
     "execution_count": 21,
     "metadata": {},
     "output_type": "execute_result"
    }
   ],
   "source": [
    "ind"
   ]
  },
  {
   "cell_type": "code",
   "execution_count": 23,
   "id": "72805c25",
   "metadata": {},
   "outputs": [
    {
     "data": {
      "text/plain": [
       "array([0, 2, 2, 3])"
      ]
     },
     "execution_count": 23,
     "metadata": {},
     "output_type": "execute_result"
    }
   ],
   "source": [
    "x[ind] #same as np.sort(x, axis = None)"
   ]
  },
  {
   "cell_type": "code",
   "execution_count": 25,
   "id": "83b35fbb",
   "metadata": {},
   "outputs": [],
   "source": [
    "x = np.array([(1,0), (0,1)], dtype = [('x', '<i4'), ('y', '<i4')])"
   ]
  },
  {
   "cell_type": "code",
   "execution_count": 26,
   "id": "9f02866d",
   "metadata": {},
   "outputs": [
    {
     "data": {
      "text/plain": [
       "array([(1, 0), (0, 1)], dtype=[('x', '<i4'), ('y', '<i4')])"
      ]
     },
     "execution_count": 26,
     "metadata": {},
     "output_type": "execute_result"
    }
   ],
   "source": [
    "x"
   ]
  },
  {
   "cell_type": "code",
   "execution_count": 27,
   "id": "c54fe8f7",
   "metadata": {},
   "outputs": [
    {
     "data": {
      "text/plain": [
       "array([1, 0], dtype=int64)"
      ]
     },
     "execution_count": 27,
     "metadata": {},
     "output_type": "execute_result"
    }
   ],
   "source": [
    "np.argsort(x, order = ('x', 'y'))"
   ]
  },
  {
   "cell_type": "code",
   "execution_count": 28,
   "id": "c708247b",
   "metadata": {},
   "outputs": [
    {
     "data": {
      "text/plain": [
       "array([0, 1], dtype=int64)"
      ]
     },
     "execution_count": 28,
     "metadata": {},
     "output_type": "execute_result"
    }
   ],
   "source": [
    "np.argsort(x, order = ('y', 'x'))"
   ]
  },
  {
   "cell_type": "markdown",
   "id": "43c7ccea",
   "metadata": {},
   "source": [
    "# 2번"
   ]
  },
  {
   "cell_type": "code",
   "execution_count": 29,
   "id": "056cbd73",
   "metadata": {},
   "outputs": [],
   "source": [
    "import numpy as np"
   ]
  },
  {
   "cell_type": "code",
   "execution_count": 30,
   "id": "8a819649",
   "metadata": {},
   "outputs": [],
   "source": [
    "x = np.array([3,1,2])"
   ]
  },
  {
   "cell_type": "code",
   "execution_count": 31,
   "id": "deca9f17",
   "metadata": {},
   "outputs": [
    {
     "data": {
      "text/plain": [
       "array([1, 2, 0], dtype=int64)"
      ]
     },
     "execution_count": 31,
     "metadata": {},
     "output_type": "execute_result"
    }
   ],
   "source": [
    "np.argsort(x)"
   ]
  },
  {
   "cell_type": "code",
   "execution_count": 32,
   "id": "92e5ff0b",
   "metadata": {},
   "outputs": [],
   "source": [
    "x = np.array([[0,3], [2,2]])"
   ]
  },
  {
   "cell_type": "code",
   "execution_count": 33,
   "id": "34a945d6",
   "metadata": {},
   "outputs": [
    {
     "data": {
      "text/plain": [
       "array([[0, 3],\n",
       "       [2, 2]])"
      ]
     },
     "execution_count": 33,
     "metadata": {},
     "output_type": "execute_result"
    }
   ],
   "source": [
    "x"
   ]
  },
  {
   "cell_type": "code",
   "execution_count": 34,
   "id": "8c5228c8",
   "metadata": {},
   "outputs": [],
   "source": [
    "ind = np.argsort(x, axis=0) #sorts along first axis(down)"
   ]
  },
  {
   "cell_type": "code",
   "execution_count": 35,
   "id": "95d7f152",
   "metadata": {},
   "outputs": [
    {
     "data": {
      "text/plain": [
       "array([[0, 1],\n",
       "       [1, 0]], dtype=int64)"
      ]
     },
     "execution_count": 35,
     "metadata": {},
     "output_type": "execute_result"
    }
   ],
   "source": [
    "ind"
   ]
  },
  {
   "cell_type": "code",
   "execution_count": 36,
   "id": "27fe71d5",
   "metadata": {},
   "outputs": [
    {
     "data": {
      "text/plain": [
       "array([[0, 2],\n",
       "       [2, 3]])"
      ]
     },
     "execution_count": 36,
     "metadata": {},
     "output_type": "execute_result"
    }
   ],
   "source": [
    "np.take_along_axis(x, ind, axis = 0) #same as np.sort(x, axis=0)"
   ]
  },
  {
   "cell_type": "code",
   "execution_count": 37,
   "id": "c3fa70fb",
   "metadata": {},
   "outputs": [],
   "source": [
    "ind = np.argsort(x, axis=1)"
   ]
  },
  {
   "cell_type": "code",
   "execution_count": 38,
   "id": "f21b4544",
   "metadata": {},
   "outputs": [
    {
     "data": {
      "text/plain": [
       "array([[0, 1],\n",
       "       [0, 1]], dtype=int64)"
      ]
     },
     "execution_count": 38,
     "metadata": {},
     "output_type": "execute_result"
    }
   ],
   "source": [
    "ind"
   ]
  },
  {
   "cell_type": "code",
   "execution_count": 41,
   "id": "97defd55",
   "metadata": {},
   "outputs": [
    {
     "data": {
      "text/plain": [
       "array([[0, 3],\n",
       "       [2, 2]])"
      ]
     },
     "execution_count": 41,
     "metadata": {},
     "output_type": "execute_result"
    }
   ],
   "source": [
    "np.take_along_axis(x, ind, axis=1)"
   ]
  },
  {
   "cell_type": "code",
   "execution_count": 42,
   "id": "1cfe20a3",
   "metadata": {},
   "outputs": [],
   "source": [
    "ind = np.unravel_index(np.argsort(x,axis=None), x.shape)"
   ]
  },
  {
   "cell_type": "code",
   "execution_count": 43,
   "id": "e274c010",
   "metadata": {},
   "outputs": [
    {
     "data": {
      "text/plain": [
       "(array([0, 1, 1, 0], dtype=int64), array([0, 0, 1, 1], dtype=int64))"
      ]
     },
     "execution_count": 43,
     "metadata": {},
     "output_type": "execute_result"
    }
   ],
   "source": [
    "ind"
   ]
  },
  {
   "cell_type": "code",
   "execution_count": 44,
   "id": "9586180e",
   "metadata": {},
   "outputs": [],
   "source": [
    "import numpy as np"
   ]
  },
  {
   "cell_type": "code",
   "execution_count": 45,
   "id": "a010169c",
   "metadata": {},
   "outputs": [],
   "source": [
    "# create NumPy array"
   ]
  },
  {
   "cell_type": "code",
   "execution_count": 46,
   "id": "b44f1419",
   "metadata": {},
   "outputs": [],
   "source": [
    "my_array = np.array([1,2,2,3,5,6,7,10,12,14])"
   ]
  },
  {
   "cell_type": "code",
   "execution_count": 47,
   "id": "c6686e07",
   "metadata": {},
   "outputs": [],
   "source": [
    "#view NumPy array"
   ]
  },
  {
   "cell_type": "code",
   "execution_count": 48,
   "id": "16d3d7b8",
   "metadata": {},
   "outputs": [
    {
     "data": {
      "text/plain": [
       "array([ 1,  2,  2,  3,  5,  6,  7, 10, 12, 14])"
      ]
     },
     "execution_count": 48,
     "metadata": {},
     "output_type": "execute_result"
    }
   ],
   "source": [
    "my_array"
   ]
  },
  {
   "cell_type": "code",
   "execution_count": 49,
   "id": "5f8378d5",
   "metadata": {},
   "outputs": [],
   "source": [
    "#filter for values less than 5"
   ]
  },
  {
   "cell_type": "code",
   "execution_count": 50,
   "id": "ab35f67d",
   "metadata": {},
   "outputs": [
    {
     "data": {
      "text/plain": [
       "array([1, 2, 2, 3])"
      ]
     },
     "execution_count": 50,
     "metadata": {},
     "output_type": "execute_result"
    }
   ],
   "source": [
    "my_array[(my_array < 5)]"
   ]
  },
  {
   "cell_type": "code",
   "execution_count": 51,
   "id": "c1382678",
   "metadata": {},
   "outputs": [],
   "source": [
    "# filter for values greater than 5"
   ]
  },
  {
   "cell_type": "code",
   "execution_count": 52,
   "id": "f33c8c7a",
   "metadata": {},
   "outputs": [
    {
     "data": {
      "text/plain": [
       "array([ 6,  7, 10, 12, 14])"
      ]
     },
     "execution_count": 52,
     "metadata": {},
     "output_type": "execute_result"
    }
   ],
   "source": [
    "my_array[(my_array > 5)]"
   ]
  },
  {
   "cell_type": "code",
   "execution_count": 53,
   "id": "93ed47fd",
   "metadata": {},
   "outputs": [],
   "source": [
    "#filter for values equal to 5"
   ]
  },
  {
   "cell_type": "code",
   "execution_count": 54,
   "id": "a9697f65",
   "metadata": {},
   "outputs": [
    {
     "data": {
      "text/plain": [
       "array([5])"
      ]
     },
     "execution_count": 54,
     "metadata": {},
     "output_type": "execute_result"
    }
   ],
   "source": [
    "my_array[(my_array == 5)]"
   ]
  },
  {
   "cell_type": "code",
   "execution_count": 55,
   "id": "6d152f93",
   "metadata": {},
   "outputs": [],
   "source": [
    "# filter for values less than 5 or greater than 9"
   ]
  },
  {
   "cell_type": "code",
   "execution_count": 56,
   "id": "a1e29179",
   "metadata": {},
   "outputs": [
    {
     "data": {
      "text/plain": [
       "array([ 1,  2,  2,  3, 10, 12, 14])"
      ]
     },
     "execution_count": 56,
     "metadata": {},
     "output_type": "execute_result"
    }
   ],
   "source": [
    "my_array[(my_array < 5) | (my_array > 9)]"
   ]
  },
  {
   "cell_type": "code",
   "execution_count": 57,
   "id": "c6bd8c6f",
   "metadata": {},
   "outputs": [],
   "source": [
    "#filter for values greater than 5 and less than 9"
   ]
  },
  {
   "cell_type": "code",
   "execution_count": 58,
   "id": "44454771",
   "metadata": {},
   "outputs": [
    {
     "data": {
      "text/plain": [
       "array([6, 7])"
      ]
     },
     "execution_count": 58,
     "metadata": {},
     "output_type": "execute_result"
    }
   ],
   "source": [
    "my_array[(my_array > 5) & (my_array < 9)]"
   ]
  },
  {
   "cell_type": "code",
   "execution_count": 59,
   "id": "c090703c",
   "metadata": {},
   "outputs": [
    {
     "data": {
      "text/plain": [
       "array([ 2,  2,  3,  5, 12])"
      ]
     },
     "execution_count": 59,
     "metadata": {},
     "output_type": "execute_result"
    }
   ],
   "source": [
    "my_array[np.in1d(my_array, [2,3,5,12])]"
   ]
  },
  {
   "cell_type": "code",
   "execution_count": null,
   "id": "0581d23e",
   "metadata": {},
   "outputs": [],
   "source": []
  }
 ],
 "metadata": {
  "kernelspec": {
   "display_name": "Python 3 (ipykernel)",
   "language": "python",
   "name": "python3"
  },
  "language_info": {
   "codemirror_mode": {
    "name": "ipython",
    "version": 3
   },
   "file_extension": ".py",
   "mimetype": "text/x-python",
   "name": "python",
   "nbconvert_exporter": "python",
   "pygments_lexer": "ipython3",
   "version": "3.7.0"
  }
 },
 "nbformat": 4,
 "nbformat_minor": 5
}
