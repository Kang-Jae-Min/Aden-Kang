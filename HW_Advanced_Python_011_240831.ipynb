{
 "cells": [
  {
   "cell_type": "markdown",
   "id": "d9b49115",
   "metadata": {},
   "source": [
    "## Decision Tree의 depth별 성능 확인하기\n",
    "iris data로 decision tree의 depth 별 성능을 확인해봅시다. 성능을 확인하는 함수는 아래에 performance라는 이름으로 만들어놨어요. 해당 cell을 실행시키고 계산을 하면 됩니다. decision tree도 여느 scikit learn 모델과 마찬가지로 .predict 메쏘드를 사용하면 test data를 이용한 prediction이 가능해요.\n",
    "\n",
    "어떤 depth가 가장 accuracy 혹은 AUROC 점수가 높나요?"
   ]
  },
  {
   "cell_type": "code",
   "execution_count": 1,
   "id": "808795fa",
   "metadata": {},
   "outputs": [],
   "source": [
    "from sklearn.metrics import accuracy_score, roc_curve, auc\n",
    "\n",
    "def performance(y_test, y_pred):\n",
    "    print(\"Accuracy:\", accuracy_score(y_test, y_pred))\n",
    "    fpr, tpr, thresholds = roc_curve(y_test, y_pred)\n",
    "    roc_auc = auc(fpr, tpr)\n",
    "    print(\"AUROC:\", roc_auc)"
   ]
  },
  {
   "cell_type": "code",
   "execution_count": null,
   "id": "462c4921",
   "metadata": {},
   "outputs": [],
   "source": []
  }
 ],
 "metadata": {
  "kernelspec": {
   "display_name": "Python 3 (ipykernel)",
   "language": "python",
   "name": "python3"
  },
  "language_info": {
   "codemirror_mode": {
    "name": "ipython",
    "version": 3
   },
   "file_extension": ".py",
   "mimetype": "text/x-python",
   "name": "python",
   "nbconvert_exporter": "python",
   "pygments_lexer": "ipython3",
   "version": "3.8.5"
  }
 },
 "nbformat": 4,
 "nbformat_minor": 5
}
